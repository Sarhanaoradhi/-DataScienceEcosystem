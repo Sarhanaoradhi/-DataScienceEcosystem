{
 "cells": [
  {
   "cell_type": "markdown",
   "id": "69abed99-a2bf-48fa-8cbf-002f130e66d3",
   "metadata": {},
   "source": [
    "# Data Science Tools and Ecosystem"
   ]
  },
  {
   "cell_type": "markdown",
   "id": "367dec19-c159-4b58-86dc-c7af637b6f22",
   "metadata": {},
   "source": [
    "In this notebook, Data Science Tools and Ecosystem are summarized."
   ]
  },
  {
   "cell_type": "markdown",
   "id": "d8adefae-21ee-4209-975b-257e503bda0e",
   "metadata": {},
   "source": [
    "**Objectives:**\n",
    "\n",
    "- List popular languages for Data Science\n",
    "- List popular libraries used by Data Scientists \n",
    "- List common open source development environments used in data science"
   ]
  },
  {
   "cell_type": "markdown",
   "id": "c4b2ee7d-345d-467e-86df-2d06af330410",
   "metadata": {},
   "source": [
    "Some of the popular languages that Data Scientists use are:\n",
    "1. Python\n",
    "2. R\n",
    "3. SQL"
   ]
  },
  {
   "cell_type": "markdown",
   "id": "c9644399-eb41-4a4d-ace0-2234920bb492",
   "metadata": {},
   "source": [
    "Some of the commonly used libraries used by Data Scientists include:\n",
    "1. Matplotlib\n",
    "2. NumPy\n",
    "3. SciPy"
   ]
  },
  {
   "cell_type": "markdown",
   "id": "7dc47cfa-18bd-407b-9d96-acfff964d6a5",
   "metadata": {},
   "source": [
    "Data science tools |\n",
    "--------------------\n",
    "Jupyter lab |\n",
    "Apache Zeppelin |\n",
    "R Studio | "
   ]
  },
  {
   "cell_type": "markdown",
   "id": "30631651-9ecf-40a2-8776-7d7c7b96adf7",
   "metadata": {},
   "source": [
    "### Below are a few examples of evaluating arithmetic expressions in Python"
   ]
  },
  {
   "cell_type": "code",
   "execution_count": 13,
   "id": "b4f66d87-a266-4600-bdd2-9ee0ec3de834",
   "metadata": {},
   "outputs": [
    {
     "data": {
      "text/plain": [
       "17"
      ]
     },
     "execution_count": 13,
     "metadata": {},
     "output_type": "execute_result"
    }
   ],
   "source": [
    "# This a simple arithmetic expression to mutiply then add integers \n",
    "(3*4)+5"
   ]
  },
  {
   "cell_type": "code",
   "execution_count": 14,
   "id": "e6d89093-f6b3-429e-b906-dd21bb957c8f",
   "metadata": {},
   "outputs": [
    {
     "data": {
      "text/plain": [
       "3.3333333333333335"
      ]
     },
     "execution_count": 14,
     "metadata": {},
     "output_type": "execute_result"
    }
   ],
   "source": [
    "#  This will convert 200 minutes to hours by diving by 60\n",
    "200/60"
   ]
  },
  {
   "cell_type": "markdown",
   "id": "5863b391-4ee6-4411-9610-1e5d688ef086",
   "metadata": {},
   "source": [
    "## Author\n",
    "Husain Radhi"
   ]
  },
  {
   "cell_type": "code",
   "execution_count": null,
   "id": "8d1538b9-b0e8-495b-8a78-18d7c4c93f90",
   "metadata": {},
   "outputs": [],
   "source": []
  }
 ],
 "metadata": {
  "kernelspec": {
   "display_name": "Python 3 (ipykernel)",
   "language": "python",
   "name": "python3"
  },
  "language_info": {
   "codemirror_mode": {
    "name": "ipython",
    "version": 3
   },
   "file_extension": ".py",
   "mimetype": "text/x-python",
   "name": "python",
   "nbconvert_exporter": "python",
   "pygments_lexer": "ipython3",
   "version": "3.11.7"
  }
 },
 "nbformat": 4,
 "nbformat_minor": 5
}
